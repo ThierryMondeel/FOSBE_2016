{
 "cells": [
  {
   "cell_type": "code",
   "execution_count": 2,
   "metadata": {},
   "outputs": [
    {
     "name": "stderr",
     "output_type": "stream",
     "text": [
      "Error encountered trying to <set model history>.\n",
      "LibSBML error code -5: The object passed as an argument to the method is not of a type that is valid for the operation or kind of object involved. For example, handing an invalidly-constructed ASTNode to a method expecting an ASTNode will result in this error.\n"
     ]
    },
    {
     "name": "stdout",
     "output_type": "stream",
     "text": [
      "New reaction FDHH2: co2_c + h2_c --> for_c + h_c\n",
      "New reaction FDHFDNADPH: 2 co2_c + fdxr_4_2_c + h_c + nadph_c --> fdxo_4_2_c + 2 for_c + nadp_c\n",
      "New reaction MTHFD_alt: methf_c + nadh_c --> mlthf_c + nad_c\n",
      "New reaction MTHFR5_alt: 2 h_c + mlthf_c + nadh_c --> 5mthf_c + nad_c\n"
     ]
    }
   ],
   "source": [
    "# This generates an SBML model for core acetogen metabolism according to Schuchman 2014\n",
    "import cobra\n",
    "from cobra import Model, Reaction, Metabolite\n",
    "\n",
    "# Load the GEMM\n",
    "M = cobra.io.read_sbml_model(\"../Data/models/c_ljungdahlii_nagarajan_2013.xml\");\n",
    "\n",
    "# Produce a .json model for use with Escher\n",
    "cobra.io.save_json_model(M, \"../Data/models/c_ljungdahlii_nagarajan_2013.json\");\n",
    "\n",
    "# save the default medium\n",
    "model = M.copy()\n",
    "\n",
    "### set the objective to ATPM without a lower bound\n",
    "model.reactions.ATPM.lower_bound = 0\n",
    "model.objective = model.reactions.ATPM\n",
    "\n",
    "### set medium to CO2 + H2 in a 2:4 ratio as in Schuchmann\n",
    "model.reactions.EX_fru_e.lower_bound = 0\n",
    "model.reactions.EX_co2_e.lower_bound = -2\n",
    "model.reactions.EX_h2_e.lower_bound = -4\n",
    "\n",
    "model.reactions.EX_ac_e.lower_bound = 1\n",
    "\n",
    "# turning on blocked reactions\n",
    "model.reactions.ACACT1r.upper_bound = 1000\n",
    "model.reactions.HACD1.upper_bound = 1000\n",
    "\n",
    "DM_3hbcoa_c = Reaction('DM_3hbcoa_c')\n",
    "model.add_reaction(DM_3hbcoa_c)\n",
    "model.reactions.DM_3hbcoa_c.add_metabolites({'3hbcoa_c':-1,'coa_c':1})\n",
    "\n",
    "### Adding new reactions according to (Schuchmann, 2014)\n",
    "# Formate dehydrogenase with H2\n",
    "FDHH2 = Reaction('FDHH2')\n",
    "FDHH2.name = 'Formate dehydrogenase with H2 as electron donor'\n",
    "model.add_reaction(FDHH2)\n",
    "model.reactions.FDHH2.add_metabolites({'co2_c':-1,'h2_c':-1,'for_c':1,'h_c':1})\n",
    "model.reactions.FDHH2.lower_bound = 0; model.reactions.FDHH2.upper_bound = 0;\n",
    "print('New reaction FDHH2:',model.reactions.FDHH2.reaction)\n",
    "\n",
    "# Formate dehydrogenase with H2\n",
    "FDHFDNADPH = Reaction('FDHFDNADPH')\n",
    "FDHFDNADPH.name = 'Formate dehydrogenase with Fd and NADPH as electron donor'\n",
    "model.add_reaction(FDHFDNADPH)\n",
    "model.reactions.FDHFDNADPH.add_metabolites({'co2_c':-2,'fdxr_4_2_c':-1,'nadph_c':-1,'h_c':-1,'for_c':2,'fdxo_4_2_c':1,'nadp_c':1})\n",
    "model.reactions.FDHFDNADPH.lower_bound = 0; model.reactions.FDHFDNADPH.upper_bound = 0;\n",
    "print('New reaction FDHFDNADPH:',model.reactions.FDHFDNADPH.reaction)\n",
    "\n",
    "# alternative to MTHFD\n",
    "MTHFD_alt = Reaction('MTHFD_alt')\n",
    "MTHFD_alt.name = 'MTHFD with nadh'\n",
    "model.add_reaction(MTHFD_alt)\n",
    "model.reactions.MTHFD_alt.add_metabolites({'methf_c':-1,'nadh_c':-1,'mlthf_c':1,'nad_c':1})\n",
    "model.reactions.MTHFD_alt.lower_bound = 0; model.reactions.MTHFD_alt.upper_bound = 0;\n",
    "print('New reaction MTHFD_alt:',model.reactions.MTHFD_alt.reaction)\n",
    "\n",
    "# alternative to MTHFR5\n",
    "MTHFR5_alt = Reaction('MTHFR5_alt')\n",
    "MTHFR5_alt.name = 'MTHFR5 with nadh only'\n",
    "model.add_reaction(MTHFR5_alt)\n",
    "model.reactions.MTHFR5_alt.add_metabolites({'mlthf_c':-1,'h_c':-2,'nadh_c':-1,'5mthf_c':1,'nad_c':1})\n",
    "model.reactions.MTHFR5_alt.lower_bound = 0; model.reactions.MTHFR5_alt.upper_bound = 0;\n",
    "print('New reaction MTHFR5_alt:',model.reactions.MTHFR5_alt.reaction)\n",
    "\n",
    "# Write to SBML\n",
    "cobra.io.write_sbml_model(model,'../Data/models/c_ljungdahlii_nagarajan_2013_update.xml')\n",
    "\n",
    "# Produce a .json model for use with Escher\n",
    "cobra.io.save_json_model(model, \"../Data/models/c_ljungdahlii_nagarajan_2013_update.json\");"
   ]
  },
  {
   "cell_type": "code",
   "execution_count": null,
   "metadata": {},
   "outputs": [],
   "source": []
  }
 ],
 "metadata": {
  "kernelspec": {
   "display_name": "Python 3",
   "language": "python",
   "name": "python3"
  },
  "language_info": {
   "codemirror_mode": {
    "name": "ipython",
    "version": 3
   },
   "file_extension": ".py",
   "mimetype": "text/x-python",
   "name": "python",
   "nbconvert_exporter": "python",
   "pygments_lexer": "ipython3",
   "version": "3.6.1"
  },
  "toc": {
   "nav_menu": {},
   "number_sections": true,
   "sideBar": true,
   "skip_h1_title": false,
   "toc_cell": false,
   "toc_position": {},
   "toc_section_display": "block",
   "toc_window_display": false
  }
 },
 "nbformat": 4,
 "nbformat_minor": 2
}
